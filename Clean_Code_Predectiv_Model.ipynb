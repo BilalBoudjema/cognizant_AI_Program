{
  "nbformat": 4,
  "nbformat_minor": 0,
  "metadata": {
    "colab": {
      "provenance": []
    },
    "kernelspec": {
      "name": "python3",
      "display_name": "Python 3"
    },
    "language_info": {
      "name": "python"
    }
  },
  "cells": [
    {
      "cell_type": "code",
      "source": [
        "import pandas as pd\n",
        "from sklearn.ensemble import RandomForestRegressor\n",
        "from sklearn.model_selection import train_test_split\n",
        "from sklearn.metrics import mean_absolute_error\n",
        "from sklearn.preprocessing import StandardScaler"
      ],
      "metadata": {
        "id": "nrJglwlfc9w9"
      },
      "execution_count": null,
      "outputs": []
    },
    {
      "cell_type": "code",
      "source": [
        "# Global Constant\n",
        "K = 10\n",
        "\n",
        "# Split defines the % of data that will be used in the training sample\n",
        "# 1 - SPLIT = the % used for testing\n",
        "SPLIT = 0.75"
      ],
      "metadata": {
        "id": "xqMxBiK0d6JD"
      },
      "execution_count": null,
      "outputs": []
    },
    {
      "cell_type": "code",
      "source": [
        "# Load data\n",
        "def load_data(path: str = \"/path/to/csv/\"):\n",
        "    \"\"\"\n",
        "    This function takes a path string to a CSV file and loads it into\n",
        "    a Pandas DataFrame.\n",
        "\n",
        "    :param      path (optional): str, relative path of the CSV file\n",
        "\n",
        "    :return     df: pd.DataFrame\n",
        "    \"\"\"\n",
        "\n",
        "    df = pd.read_csv(f\"{path}\")\n",
        "    df.drop(columns=[\"Unnamed: 0\"], inplace=True, errors='ignore')\n",
        "    return df"
      ],
      "metadata": {
        "id": "tYR9Bt6adCmX"
      },
      "execution_count": null,
      "outputs": []
    },
    {
      "cell_type": "code",
      "source": [
        "# Create target variable and predictor variables\n",
        "def create_target_and_predictors(\n",
        "    data: pd.DataFrame = None,\n",
        "    target: str = \"estimated_stock_pct\"\n",
        "):\n",
        "    \"\"\"\n",
        "    This function takes in a Pandas DataFrame and splits the columns\n",
        "    into a target column and a set of predictor variables, i.e. X & y.\n",
        "    These two splits of the data will be used to train a supervised\n",
        "    machine learning model.\n",
        "\n",
        "    :param      data: pd.DataFrame, dataframe containing data for the\n",
        "                      model\n",
        "    :param      target: str (optional), target variable that you want to predict\n",
        "\n",
        "    :return     X: pd.DataFrame\n",
        "                y: pd.Series\n",
        "    \"\"\"\n",
        "\n",
        "    # Check to see if the target variable is present in the data\n",
        "    if target not in data.columns:\n",
        "        raise Exception(f\"Target: {target} is not present in the data\")\n",
        "\n",
        "    X = data.drop(columns=[target])\n",
        "    y = data[target]\n",
        "    return X, y"
      ],
      "metadata": {
        "id": "SHCyE4ZRdGak"
      },
      "execution_count": null,
      "outputs": []
    },
    {
      "cell_type": "code",
      "execution_count": 1,
      "metadata": {
        "id": "T_AyWa7Vcuk4"
      },
      "outputs": [],
      "source": [
        "# Train algorithm\n",
        "def train_algorithm_with_cross_validation(\n",
        "    X: pd.DataFrame = None,\n",
        "    y: pd.Series = None\n",
        "):\n",
        "    \"\"\"\n",
        "    This function takes the predictor and target variables and\n",
        "    trains a Random Forest Regressor model across K folds. Using\n",
        "    cross-validation, performance metrics will be output for each\n",
        "    fold during training.\n",
        "\n",
        "    :param      X: pd.DataFrame, predictor variables\n",
        "    :param      y: pd.Series, target variable\n",
        "\n",
        "    :return\n",
        "    \"\"\"\n",
        "\n",
        "    # Create a list that will store the accuracies of each fold\n",
        "    accuracy = []\n",
        "\n",
        "    # Enter a loop to run K folds of cross-validation\n",
        "    for fold in range(0, K):\n",
        "\n",
        "        # Instantiate algorithm and scaler\n",
        "        model = RandomForestRegressor()\n",
        "        scaler = StandardScaler()\n",
        "\n",
        "        # Create training and test samples\n",
        "        X_train, X_test, y_train, y_test = train_test_split(X, y, train_size=SPLIT, random_state=42)\n",
        "\n",
        "        # Scale X data, we scale the data because it helps the algorithm to converge\n",
        "        # and helps the algorithm to not be greedy with large values\n",
        "        scaler.fit(X_train)\n",
        "        X_train = scaler.transform(X_train)\n",
        "        X_test = scaler.transform(X_test)\n",
        "\n",
        "        # Train model\n",
        "        trained_model = model.fit(X_train, y_train)\n",
        "\n",
        "        # Generate predictions on test sample\n",
        "        y_pred = trained_model.predict(X_test)\n",
        "\n",
        "        # Compute accuracy, using mean absolute error\n",
        "        mae = mean_absolute_error(y_true=y_test, y_pred=y_pred)\n",
        "        accuracy.append(mae)\n",
        "        print(f\"Fold {fold + 1}: MAE = {mae:.3f}\")\n",
        "\n",
        "    # Finish by computing the average MAE across all folds\n",
        "    print(f\"Average MAE: {(sum(accuracy) / len(accuracy)):.2f}\")"
      ]
    },
    {
      "cell_type": "code",
      "source": [
        "# MAIN FUNCTION\n",
        "\n",
        "# Execute training pipeline\n",
        "def run():\n",
        "    \"\"\"\n",
        "    This function executes the training pipeline of loading the prepared\n",
        "    dataset from a CSV file and training the machine learning model\n",
        "\n",
        "    :param\n",
        "\n",
        "    :return\n",
        "    \"\"\"\n",
        "\n",
        "    # Load the data first\n",
        "    df = load_data()\n",
        "\n",
        "    # Now split the data into predictors and target variables\n",
        "    X, y = create_target_and_predictors(data=df)\n",
        "\n",
        "    # Finally, train the machine learning model\n",
        "    train_algorithm_with_cross_validation(X=X, y=y)"
      ],
      "metadata": {
        "id": "mv7bU26BeOVg"
      },
      "execution_count": null,
      "outputs": []
    }
  ]
}